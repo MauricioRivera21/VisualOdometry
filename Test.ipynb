{
 "cells": [
  {
   "cell_type": "code",
   "execution_count": 1,
   "metadata": {},
   "outputs": [],
   "source": [
    "import numpy as np \n",
    "import matplotlib.pyplot as plt \n",
    "import cv2 as cv\n",
    "import os "
   ]
  },
  {
   "cell_type": "code",
   "execution_count": 2,
   "metadata": {},
   "outputs": [],
   "source": [
    "dir_path      = 'KITTI_sequence_1'\n",
    "path = os.path.join(dir_path,\"image_l\")"
   ]
  },
  {
   "cell_type": "code",
   "execution_count": 3,
   "metadata": {},
   "outputs": [],
   "source": [
    "list_img = []\n",
    "win_name = \"Trip\"\n",
    "for img_path in os.listdir(path):\n",
    "    img = cv.imread(os.path.join(path,img_path), cv.IMREAD_GRAYSCALE)\n",
    "    list_img.append(img) "
   ]
  },
  {
   "cell_type": "code",
   "execution_count": 7,
   "metadata": {},
   "outputs": [],
   "source": [
    "for i,frame in enumerate(list_img):\n",
    "    \n",
    "    # text\n",
    "    text = 'frame #' + str(1+i) + \"/50\" \n",
    "    font = cv.FONT_HERSHEY_SIMPLEX\n",
    "    org = (20,50)\n",
    "    fontScale = 1\n",
    "    color = (255, 0, 0)\n",
    "    thickness = 2\n",
    "\n",
    "    image = cv.putText(frame, text, org, font, fontScale, \n",
    "                 color, thickness, cv.LINE_AA, False)\n",
    "\n",
    "    cv.imshow(win_name, image)\n",
    "\n",
    "    key = cv.waitKey(100)\n",
    "    if key == 27:  # ESC\n",
    "        break\n",
    "\n",
    "cv.destroyWindow(win_name)"
   ]
  }
 ],
 "metadata": {
  "kernelspec": {
   "display_name": "Python 3.9.12 ('base')",
   "language": "python",
   "name": "python3"
  },
  "language_info": {
   "codemirror_mode": {
    "name": "ipython",
    "version": 3
   },
   "file_extension": ".py",
   "mimetype": "text/x-python",
   "name": "python",
   "nbconvert_exporter": "python",
   "pygments_lexer": "ipython3",
   "version": "3.9.12"
  },
  "orig_nbformat": 4,
  "vscode": {
   "interpreter": {
    "hash": "744a3a322a6d3a2d2c563e71c10bffcd13ec3303e741d569a61877165780e166"
   }
  }
 },
 "nbformat": 4,
 "nbformat_minor": 2
}
